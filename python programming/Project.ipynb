{
 "cells": [
  {
   "cell_type": "code",
   "execution_count": 70,
   "id": "fd840b72-0677-4b68-976d-e391b40c248f",
   "metadata": {},
   "outputs": [],
   "source": [
    "%matplotlib inline\n",
    "import matplotlib.pyplot as plt\n",
    "import numpy as np\n",
    "import scipy.constants as sc\n",
    "import sympy as sy\n",
    "from datetime import datetime\n",
    "# Boltzmann constant\n",
    "k = sc.Boltzmann"
   ]
  },
  {
   "cell_type": "code",
   "execution_count": 65,
   "id": "bc7029a5-695b-4aaa-83b2-520e63a3b92b",
   "metadata": {},
   "outputs": [],
   "source": [
    "def calculate_total_energy(spins,size) :\n",
    "    global J\n",
    "    sum = 0\n",
    "    # Summing over the spins\n",
    "    for i in range(size) :\n",
    "        for j in range(size) :\n",
    "            sum += spins[i][j]*spins[(j+1) % size][i]\n",
    "            sum += spins[i][j]*spins[j][(i+1) % size]\n",
    "    return -J*sum\n",
    "\n",
    "def random_spin() :\n",
    "    # Random -1 or 1\n",
    "    rand_spin = np.random.randint(0,2)*2 - 1\n",
    "    return rand_spin\n",
    "\n",
    "def init_spins(size) :\n",
    "    # Initialize random spins for the whole array\n",
    "    spins = np.full((size,size),random_spin())\n",
    "    return spins\n",
    "\n",
    "def random_position(size) :\n",
    "    # Returns a random value based on the input size\n",
    "    return np.random.randint(0,size,2)\n",
    "\n",
    "def flip_spin(spins, size) : \n",
    "    # Flip a random spin\n",
    "    index_a,index_b = random_position(size)\n",
    "    spins[index_a][index_b] = -spins[index_a][index_b] \n",
    "    return spins\n",
    "\n",
    "def calculate_delta_energy_from_index(spins, newSpins, size) :\n",
    "    initial_E = calculate_total_energy(spins,size)\n",
    "    new_E = calculate_total_energy(newSpins,size)\n",
    "    return new_E - initial_E\n",
    "\n",
    "def accept_new_config(spins, newSpins, delta_E) :\n",
    "    # Compares the energy variation between 2 configurations \n",
    "    global T\n",
    "    global k\n",
    "    if( delta_E < 0 ) : return newSpins # Flip the spin\n",
    "    r = np.random.rand()\n",
    "    if( r <= np.exp(-delta_E/(k*T))) : \n",
    "        return newSpins # Flip the spin\n",
    "    \n",
    "    return spins # Don't flip the spin\n",
    "\n",
    "def magnetization(spins) :\n",
    "    return np.abs(np.sum(spins))/spins.size\n",
    "\n",
    "    "
   ]
  },
  {
   "cell_type": "code",
   "execution_count": 67,
   "id": "daf265ac-35da-4f02-9f99-d375dbd0a0cb",
   "metadata": {},
   "outputs": [],
   "source": [
    "def metropolis(iterations,n, save_config = False) :\n",
    "    # Variable initialisation\n",
    "    global k\n",
    "    global T\n",
    "    spins_m = init_spins(n)\n",
    "    saved_spins = np.zeros((iterations,n))\n",
    "    Energy = np.zeros(iterations)\n",
    "    Magnetization = np.zeros(iterations)\n",
    "    # Running algorithm\n",
    "    for i in range(iterations) : \n",
    "        # Storing Energy and Magnetization values for plotting\n",
    "        #Energy[i] = calculate_total_energy(spins_m,n)\n",
    "        Magnetization[i] = magnetization(spins_m)\n",
    "        # Save spin configurations if needed\n",
    "        if(save_config) : saved_spins[i] = spins_m\n",
    "        # Generate a spin flip, calculate the energy delta and decide if the new configuration is kept\n",
    "        newSpins_m = flip_spin(spins_m,n)\n",
    "        delta_E_m = calculate_delta_energy_from_index(spins_m,newSpins_m,n)\n",
    "        spins_m = accept_new_config(spins_m,newSpins_m,delta_E_m)\n",
    "    if(True) : # Plot the energy and magnetization \n",
    "        x = np.arange(0,iterations,1)\n",
    "        fig, axis = plt.subplots(nrows=2, ncols=1, figsize = (11,8))\n",
    "        \n",
    "        axis[0].plot(x,Energy, color = \"r\", linewidth = 3, label =\"total energy\")\n",
    "        axis[0].set_xlabel('Number of iterations')\n",
    "        axis[0].set_ylabel('Energy')\n",
    "        axis[0].set_facecolor('black')\n",
    "        \n",
    "        axis[1].plot(x,Magnetization, color = \"y\", linewidth = 3, label =\"total energy\")\n",
    "        axis[1].set_xlabel('Number of iterations')\n",
    "        axis[1].set_ylabel('Magnetization')\n",
    "        axis[1].set_facecolor('black')\n",
    "        \n",
    "    return spins_m, saved_spins, Energy"
   ]
  },
  {
   "cell_type": "code",
   "execution_count": 72,
   "id": "4c8b7512-377f-4deb-a895-31a7b1195fe7",
   "metadata": {},
   "outputs": [
    {
     "name": "stdout",
     "output_type": "stream",
     "text": [
      "0:01:18.655258\n"
     ]
    },
    {
     "data": {
      "image/png": "[encoded data removed]",
      "text/plain": [
       "<Figure size 792x576 with 2 Axes>"
      ]
     },
     "metadata": {
      "needs_background": "light"
     },
     "output_type": "display_data"
    }
   ],
   "source": [
    "# Parameter initialization\n",
    "n = 25\n",
    "J = 1\n",
    "T = 1/k\n",
    "# Number of iterations over which the mean will be calculated\n",
    "average_iterations = 10\n",
    "iterations = 20000\n",
    "today = datetime.now()\n",
    "# Array initilisation\n",
    "average_E = np.zeros(average_iterations)\n",
    "#saved_spins = np.zeros((iterations,n))\n",
    "#for i in range(average_iterations) :\n",
    "    # Call the metropolis algorithms average_iterations times and save only the last configurations for plotting\n",
    "    #last_spins, saved_spins, E = metropolis(iterations,n,i==(average_iterations-1))\n",
    "    #average_E[i] = calculate_total_energy(last_spins)# Parameter initialization\n",
    "\n",
    "last_spins, saved_spins, E = metropolis(iterations,n)\n",
    "print(datetime.now() - today)"
   ]
  },
  {
   "cell_type": "code",
   "execution_count": null,
   "id": "49f841fd-b467-4fe5-9096-b285b5c13dd1",
   "metadata": {},
   "outputs": [],
   "source": []
  },
  {
   "cell_type": "code",
   "execution_count": 47,
   "id": "4cbc60ed-269a-4f54-9054-2d15b39cd9ea",
   "metadata": {},
   "outputs": [
    {
     "name": "stdout",
     "output_type": "stream",
     "text": [
      "(25, 25)\n"
     ]
    },
    {
     "ename": "KeyboardInterrupt",
     "evalue": "",
     "output_type": "error",
     "traceback": [
      "\u001b[1;31m---------------------------------------------------------------------------\u001b[0m",
      "\u001b[1;31mKeyboardInterrupt\u001b[0m                         Traceback (most recent call last)",
      "\u001b[1;32m<ipython-input-47-548844db69a7>\u001b[0m in \u001b[0;36m<module>\u001b[1;34m\u001b[0m\n\u001b[0;32m     15\u001b[0m \u001b[1;31m# Iterating over spin flips with 10 particles\u001b[0m\u001b[1;33m\u001b[0m\u001b[1;33m\u001b[0m\u001b[1;33m\u001b[0m\u001b[0m\n\u001b[0;32m     16\u001b[0m \u001b[1;32mfor\u001b[0m \u001b[0mi\u001b[0m \u001b[1;32min\u001b[0m \u001b[0mrange\u001b[0m\u001b[1;33m(\u001b[0m\u001b[0miterations\u001b[0m\u001b[1;33m)\u001b[0m \u001b[1;33m:\u001b[0m\u001b[1;33m\u001b[0m\u001b[1;33m\u001b[0m\u001b[0m\n\u001b[1;32m---> 17\u001b[1;33m     \u001b[0mEnergy\u001b[0m\u001b[1;33m[\u001b[0m\u001b[0mi\u001b[0m\u001b[1;33m]\u001b[0m \u001b[1;33m=\u001b[0m \u001b[0mcalculate_total_energy\u001b[0m\u001b[1;33m(\u001b[0m\u001b[0mspins\u001b[0m\u001b[1;33m,\u001b[0m\u001b[0mn\u001b[0m\u001b[1;33m)\u001b[0m\u001b[1;33m\u001b[0m\u001b[1;33m\u001b[0m\u001b[0m\n\u001b[0m\u001b[0;32m     18\u001b[0m     \u001b[0mnewSpins\u001b[0m\u001b[1;33m,\u001b[0m \u001b[0mindex_a\u001b[0m\u001b[1;33m,\u001b[0m \u001b[0mindex_b\u001b[0m \u001b[1;33m=\u001b[0m \u001b[0mflip_spin\u001b[0m\u001b[1;33m(\u001b[0m\u001b[0mspins\u001b[0m\u001b[1;33m,\u001b[0m\u001b[0mn\u001b[0m\u001b[1;33m)\u001b[0m\u001b[1;33m\u001b[0m\u001b[1;33m\u001b[0m\u001b[0m\n\u001b[0;32m     19\u001b[0m     \u001b[0mdelta_E\u001b[0m \u001b[1;33m=\u001b[0m \u001b[0mcalculate_delta_energy_from_index\u001b[0m\u001b[1;33m(\u001b[0m\u001b[0mspins\u001b[0m\u001b[1;33m,\u001b[0m\u001b[0mnewSpins\u001b[0m\u001b[1;33m,\u001b[0m\u001b[0mn\u001b[0m\u001b[1;33m)\u001b[0m\u001b[1;33m\u001b[0m\u001b[1;33m\u001b[0m\u001b[0m\n",
      "\u001b[1;32m<ipython-input-38-8456753637a9>\u001b[0m in \u001b[0;36mcalculate_total_energy\u001b[1;34m(spins, size)\u001b[0m\n\u001b[0;32m      5\u001b[0m     \u001b[1;32mfor\u001b[0m \u001b[0mi\u001b[0m \u001b[1;32min\u001b[0m \u001b[0mrange\u001b[0m\u001b[1;33m(\u001b[0m\u001b[0msize\u001b[0m\u001b[1;33m)\u001b[0m \u001b[1;33m:\u001b[0m\u001b[1;33m\u001b[0m\u001b[1;33m\u001b[0m\u001b[0m\n\u001b[0;32m      6\u001b[0m         \u001b[1;32mfor\u001b[0m \u001b[0mj\u001b[0m \u001b[1;32min\u001b[0m \u001b[0mrange\u001b[0m\u001b[1;33m(\u001b[0m\u001b[0msize\u001b[0m\u001b[1;33m)\u001b[0m \u001b[1;33m:\u001b[0m\u001b[1;33m\u001b[0m\u001b[1;33m\u001b[0m\u001b[0m\n\u001b[1;32m----> 7\u001b[1;33m             \u001b[0msum\u001b[0m \u001b[1;33m+=\u001b[0m \u001b[0mspins\u001b[0m\u001b[1;33m[\u001b[0m\u001b[0mi\u001b[0m\u001b[1;33m]\u001b[0m\u001b[1;33m[\u001b[0m\u001b[0mj\u001b[0m\u001b[1;33m]\u001b[0m\u001b[1;33m*\u001b[0m\u001b[0mspins\u001b[0m\u001b[1;33m[\u001b[0m\u001b[1;33m(\u001b[0m\u001b[0mj\u001b[0m\u001b[1;33m+\u001b[0m\u001b[1;36m1\u001b[0m\u001b[1;33m)\u001b[0m \u001b[1;33m%\u001b[0m \u001b[0msize\u001b[0m\u001b[1;33m]\u001b[0m\u001b[1;33m[\u001b[0m\u001b[0mi\u001b[0m\u001b[1;33m]\u001b[0m\u001b[1;33m\u001b[0m\u001b[1;33m\u001b[0m\u001b[0m\n\u001b[0m\u001b[0;32m      8\u001b[0m             \u001b[0msum\u001b[0m \u001b[1;33m+=\u001b[0m \u001b[0mspins\u001b[0m\u001b[1;33m[\u001b[0m\u001b[0mi\u001b[0m\u001b[1;33m]\u001b[0m\u001b[1;33m[\u001b[0m\u001b[0mj\u001b[0m\u001b[1;33m]\u001b[0m\u001b[1;33m*\u001b[0m\u001b[0mspins\u001b[0m\u001b[1;33m[\u001b[0m\u001b[0mj\u001b[0m\u001b[1;33m]\u001b[0m\u001b[1;33m[\u001b[0m\u001b[1;33m(\u001b[0m\u001b[0mi\u001b[0m\u001b[1;33m+\u001b[0m\u001b[1;36m1\u001b[0m\u001b[1;33m)\u001b[0m \u001b[1;33m%\u001b[0m \u001b[0msize\u001b[0m\u001b[1;33m]\u001b[0m\u001b[1;33m\u001b[0m\u001b[1;33m\u001b[0m\u001b[0m\n\u001b[0;32m      9\u001b[0m     \u001b[1;32mreturn\u001b[0m \u001b[1;33m-\u001b[0m\u001b[0mJ\u001b[0m\u001b[1;33m*\u001b[0m\u001b[0msum\u001b[0m\u001b[1;33m\u001b[0m\u001b[1;33m\u001b[0m\u001b[0m\n",
      "\u001b[1;31mKeyboardInterrupt\u001b[0m: "
     ]
    }
   ],
   "source": [
    "# Test cases to determine most appropriate number of iterations\n",
    "# Parameters\n",
    "J = 1\n",
    "T = 1/k\n",
    "n = 25\n",
    "iterations = 10000\n",
    "\n",
    "# Array initialisation\n",
    "spins = init_spins(n)\n",
    "Energy = np.zeros(iterations)\n",
    "Energy2 = np.zeros(iterations)\n",
    "delta_Energy = np.zeros(iterations)\n",
    "delta_Energy2 = np.zeros(iterations)\n",
    "# Iterating over spin flips with 10 particles\n",
    "for i in range(iterations) : \n",
    "    Energy[i] = calculate_total_energy(spins,n)\n",
    "    newSpins = flip_spin(spins,n)\n",
    "    delta_E = calculate_delta_energy_from_index(spins,newSpins,n)\n",
    "    delta_Energy[i] = delta_E\n",
    "    #spins = accept_new_config(spins,newSpins,delta_E)\n",
    "\n",
    "# Plotting values\n",
    "x = np.arange(0,iterations,1)\n",
    "\n",
    "fig, axis = plt.subplots(figsize = (11,4))\n",
    "\n",
    "axis.plot(x,Energy, color = \"r\", linewidth = 3, label =\"n = 25\")\n",
    "axis.legend(loc=0)\n",
    "axis.set_xlabel('Number of iterations')\n",
    "axis.set_ylabel('Energy')\n",
    "axis.set_facecolor('black')"
   ]
  },
  {
   "cell_type": "code",
   "execution_count": 63,
   "id": "2a464703-5d7b-473a-8eed-edb417dceefb",
   "metadata": {},
   "outputs": [
    {
     "name": "stdout",
     "output_type": "stream",
     "text": [
      "625\n"
     ]
    }
   ],
   "source": [
    "print(spins.size)\n"
   ]
  },
  {
   "cell_type": "code",
   "execution_count": null,
   "id": "961642e5-d66a-467a-9fb3-eaf01919998a",
   "metadata": {},
   "outputs": [],
   "source": []
  }
 ],
 "metadata": {
  "kernelspec": {
   "display_name": "Python 3",
   "language": "python",
   "name": "python3"
  },
  "language_info": {
   "codemirror_mode": {
    "name": "ipython",
    "version": 3
   },
   "file_extension": ".py",
   "mimetype": "text/x-python",
   "name": "python",
   "nbconvert_exporter": "python",
   "pygments_lexer": "ipython3",
   "version": "3.8.5"
  }
 },
 "nbformat": 4,
 "nbformat_minor": 5
}
